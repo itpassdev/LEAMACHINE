{
 "cells": [
  {
   "cell_type": "markdown",
   "metadata": {},
   "source": [
    "https://github.com/ibmdb/python-ibmdb\n",
    "\n",
    "ibm-db\n",
    "\n",
    "Interfaccia per connettersi al DB2 da Python:\n",
    "\n",
    "The ibm_db contains:\n",
    "ibm_db driver: Python driver for IBM DB2 and IBM Informix databases. Uses the IBM Data Server Driver for ODBC and CLI APIs to connect to IBM DB2 and Informix.\n",
    "ibm_db_dbi: Python driver for IBM DB2 and IBM Informix databases that complies to the DB-API 2.0 specification. Checkout the README for getting started with ibm_db and ibm_db_dbi\n"
   ]
  },
  {
   "cell_type": "code",
   "execution_count": null,
   "metadata": {},
   "outputs": [],
   "source": [
    "#importazione module ibm_db (sostituire nome_utente e password con i valori corretti)\n",
    "import ibm_db\n",
    "conn = ibm_db.connect(\"*LOCAL\",\"nome_utente\",\"password\")\n",
    "print(conn)"
   ]
  },
  {
   "cell_type": "code",
   "execution_count": null,
   "metadata": {},
   "outputs": [],
   "source": [
    "import pandas as pd"
   ]
  },
  {
   "cell_type": "code",
   "execution_count": null,
   "metadata": {},
   "outputs": [],
   "source": [
    "#importa file .csv\n",
    "data = pd.read_csv('totale_parco_veicolare_milano.csv', sep=\";\")"
   ]
  },
  {
   "cell_type": "code",
   "execution_count": null,
   "metadata": {},
   "outputs": [],
   "source": [
    "print(data)"
   ]
  },
  {
   "cell_type": "code",
   "execution_count": null,
   "metadata": {},
   "outputs": [],
   "source": [
    "data.describe()\n",
    "#informazioni sul dataset"
   ]
  },
  {
   "cell_type": "code",
   "execution_count": null,
   "metadata": {},
   "outputs": [],
   "source": [
    "#crea tabella VEICOLI in libreria JUPYTER_04\n",
    "sql = \"CREATE TABLE JUPYTER_04.VEICOLI (Anno dec(4,0), Tipologia_Veicolo varchar(255), Numero_Veicoli dec(10,0))\"\n",
    "stmt = ibm_db.exec_immediate(conn, sql)"
   ]
  },
  {
   "cell_type": "code",
   "execution_count": null,
   "metadata": {},
   "outputs": [],
   "source": [
    "#creato ricevitore di giornale, giornale e aggiunto il file VEICOLI per controllo transazioni com comando STRJRNPF FILE(JUPYTER_04/VEICOLI)"
   ]
  },
  {
   "cell_type": "code",
   "execution_count": null,
   "metadata": {},
   "outputs": [],
   "source": [
    "#esempio di importazione leggendo alcuni casi e caricando i valori nel file su IBM i \n",
    "conn = ibm_db.connect(\"*LOCAL\",\"nome_utente\",\"password\")\n",
    "\n",
    "for cont in range(0, 10, 1):\n",
    "    record = data.iloc[cont]\n",
    "    \n",
    "    sql = \"INSERT INTO JUPYTER_04.VEICOLI VALUES(?, ?, ?)\"\n",
    "    stmt = ibm_db.prepare(conn, sql)\n",
    "    \n",
    "    param = record[0], record[1], record[2]\n",
    "    try:\n",
    "        ibm_db.execute(stmt, param)\n",
    "    except:\n",
    "        print(\"Transaction cannot be completed\")\n",
    "        print(cont, ibm_db.stmt_errormsg())\n",
    "    else:\n",
    "        print(\"Transaction complete.\")\n",
    "                \n",
    "#Transaction cannot be completed (problema per file non sotto journal)\n",
    "#0 VEICOLI in JUPYTER_04 non valido per l'operazione. SQLSTATE=55019 SQLCODE=-7008"
   ]
  }
 ],
 "metadata": {
  "kernelspec": {
   "display_name": "Python 3",
   "language": "python",
   "name": "python3"
  },
  "language_info": {
   "codemirror_mode": {
    "name": "ipython",
    "version": 3
   },
   "file_extension": ".py",
   "mimetype": "text/x-python",
   "name": "python",
   "nbconvert_exporter": "python",
   "pygments_lexer": "ipython3",
   "version": "3.6.10"
  }
 },
 "nbformat": 4,
 "nbformat_minor": 4
}
