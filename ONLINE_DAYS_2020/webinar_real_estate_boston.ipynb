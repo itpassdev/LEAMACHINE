{
 "cells": [
  {
   "cell_type": "markdown",
   "metadata": {},
   "source": [
    "# Regressione lineare"
   ]
  },
  {
   "cell_type": "code",
   "execution_count": null,
   "metadata": {},
   "outputs": [],
   "source": [
    "# Import moduli per la manipolazione dei dataframe\n",
    "import pandas as pd\n",
    "import numpy as np"
   ]
  },
  {
   "cell_type": "code",
   "execution_count": null,
   "metadata": {},
   "outputs": [],
   "source": [
    "# Import modulo di regressione da sklearn-learn\n",
    "#import sklearn\n",
    "from sklearn.linear_model import LinearRegression\n",
    "from sklearn.model_selection import train_test_split"
   ]
  },
  {
   "cell_type": "code",
   "execution_count": null,
   "metadata": {},
   "outputs": [],
   "source": [
    "# Import modulo grafica\n",
    "import matplotlib.pyplot as plt\n",
    "%matplotlib inline"
   ]
  },
  {
   "cell_type": "code",
   "execution_count": null,
   "metadata": {},
   "outputs": [],
   "source": [
    "# Caricamento dei dati in un dataframe \n",
    "# df.to_csv('webinar_real_estate1.csv', index = False, sep = ';')\n",
    "'''\n",
    "Dataset concerns housing values in suburbs of Boston.\n",
    "\n",
    "from https://archive.ics.uci.edu/ml/machine-learning-databases/housing/\n",
    "\n",
    "     Attribute Information (in order):\n",
    "        - CRIM     per capita crime rate by town\n",
    "        - ZN       proportion of residential land zoned for lots over 25,000 sq.ft.\n",
    "        - INDUS    proportion of non-retail business acres per town\n",
    "        - CHAS     Charles River dummy variable (= 1 if tract bounds river; 0 otherwise)\n",
    "        - NOX      nitric oxides concentration (parts per 10 million)\n",
    "        - RM       average number of rooms per dwelling\n",
    "        - AGE      proportion of owner-occupied units built prior to 1940\n",
    "        - DIS      weighted distances to five Boston employment centres\n",
    "        - RAD      index of accessibility to radial highways\n",
    "        - TAX      full-value property-tax rate per $10,000\n",
    "        - PTRATIO  pupil-teacher ratio by town\n",
    "        - B        1000(Bk - 0.63)^2 where Bk is the proportion of blacks by town\n",
    "        - LSTAT    % lower status of the population\n",
    "     Target:     \n",
    "        - Price    Median value of owner-occupied homes in $1000's\n",
    "\n",
    "'''        \n",
    "df = pd.read_csv('webinar_real_estate_boston.csv', delimiter=';')\n",
    "\n",
    "# Verifica dimensioni del frame e nomi delle colonne\n",
    "print(df.shape, df.columns)"
   ]
  },
  {
   "cell_type": "code",
   "execution_count": null,
   "metadata": {},
   "outputs": [],
   "source": [
    "print(df)"
   ]
  },
  {
   "cell_type": "code",
   "execution_count": null,
   "metadata": {
    "scrolled": true
   },
   "outputs": [],
   "source": [
    "# Conteggio delle case per prezzo\n",
    "plt.hist(df['price'], bins='auto')\n",
    "plt.xlabel('Prezzo delle case') #label\n",
    "plt.ylabel('Numero di case')    #label\n",
    "plt.show()"
   ]
  },
  {
   "cell_type": "markdown",
   "metadata": {},
   "source": [
    "# Regressione lineare 1 variabile"
   ]
  },
  {
   "cell_type": "code",
   "execution_count": null,
   "metadata": {},
   "outputs": [],
   "source": [
    "# ====================\n",
    "# Regressione LINEARE\n",
    "# ====================\n",
    "df1_data_x = df.iloc[:, 5:6] #pandas.core.frame.DataFrame\n",
    "df1_prices_y = df['price']   #pandas.core.series.Series\n",
    "print(df1_data_x)"
   ]
  },
  {
   "cell_type": "code",
   "execution_count": null,
   "metadata": {},
   "outputs": [],
   "source": [
    "print(df1_prices_y)"
   ]
  },
  {
   "cell_type": "code",
   "execution_count": null,
   "metadata": {},
   "outputs": [],
   "source": [
    "# Creazione di oggetti di training e di oggetti di test partendo dalle due parti del dataframe.\n",
    "# df_data è un Dataframe e produce due Dataframe x_train, x_test (70%).\n",
    "# df_prices è una Series e produce due Series y_train, y_test (30%).\n",
    "x_train, x_test, y_train, y_test = train_test_split(df1_data_x, df1_prices_y, test_size = 0.3)\n",
    "print('x_train:',x_train.shape, '   x_test:', x_test.shape, '   y_train:', y_train.shape, '   y_test:', y_test.shape)"
   ]
  },
  {
   "cell_type": "code",
   "execution_count": null,
   "metadata": {},
   "outputs": [],
   "source": [
    "plt.plot(x_train, y_train, 'go')\n",
    "plt.plot(x_test, y_test, 'bo')\n",
    "plt.xlabel('Rooms') #label\n",
    "plt.ylabel('Price')    #label\n",
    "plt.show()"
   ]
  },
  {
   "cell_type": "code",
   "execution_count": null,
   "metadata": {},
   "outputs": [],
   "source": [
    "# Creazione di un oggetto _base.LinearRegression per la definizione del modello, tramite i due oggetti di training x_train e y_train.\n",
    "lr = LinearRegression()\n",
    "lr.fit(x_train, y_train)"
   ]
  },
  {
   "cell_type": "code",
   "execution_count": null,
   "metadata": {},
   "outputs": [],
   "source": [
    "# Definizione della funzione y = a + bx\n",
    "print ('y = a + bx :    ', '\\ny = %f  +  %f * x' % (lr.intercept_, lr.coef_[0]) )"
   ]
  },
  {
   "cell_type": "code",
   "execution_count": null,
   "metadata": {},
   "outputs": [],
   "source": [
    "# In verde le occorrenze di training (70%), in blu quelle di test (30%)\n",
    "x = np.matrix(df1_data_x)\n",
    "plt.plot(x_train, y_train, 'go')\n",
    "plt.plot(x_test, y_test, 'bo')\n",
    "plt.plot([float(min(x)),float(max(x))],[lr.predict(min(x)),lr.predict(max(x))])\n",
    "#plt.axis([0, 10, -40, 60])\n",
    "#plt.axis('auto')\n",
    "plt.xlabel('Rooms')    #label\n",
    "plt.ylabel('Price') #label"
   ]
  },
  {
   "cell_type": "code",
   "execution_count": null,
   "metadata": {},
   "outputs": [],
   "source": [
    "# Dato il numero di stanze di un appartamento, quale è i prezzo giusto?\n",
    "mat = np.matrix(6)\n",
    "print('Pred. price: %f'  % lr.predict(mat)[0])"
   ]
  },
  {
   "cell_type": "code",
   "execution_count": null,
   "metadata": {},
   "outputs": [],
   "source": [
    "# Applicazione dei dati di test al modello, creando una lista (numpy.ndarray) di prezzi fedeli al modello, che possono discostare dai corrispondenti prezzi di test in y_test.\n",
    "pred = lr.predict(x_test)"
   ]
  },
  {
   "cell_type": "code",
   "execution_count": null,
   "metadata": {},
   "outputs": [],
   "source": [
    "# Grafico di dispersione\n",
    "plt.scatter(y_test, pred)"
   ]
  },
  {
   "cell_type": "code",
   "execution_count": null,
   "metadata": {},
   "outputs": [],
   "source": [
    "# Metriche per stima modello di regressione\n",
    "from sklearn import metrics\n",
    "print('MAE:', metrics.mean_absolute_error(y_test, pred))\n",
    "print('MSE:', metrics.mean_squared_error(y_test, pred))"
   ]
  },
  {
   "cell_type": "code",
   "execution_count": null,
   "metadata": {},
   "outputs": [],
   "source": [
    "# Indice di correlazione lineare. Può variare tra 1 e 0; 1 si adatta perfettamente, 0 non si adatta.\n",
    "r2 = metrics.r2_score(y_test, pred)\n",
    "print ('Metrics:', r2)"
   ]
  },
  {
   "cell_type": "code",
   "execution_count": null,
   "metadata": {},
   "outputs": [],
   "source": []
  },
  {
   "cell_type": "markdown",
   "metadata": {},
   "source": [
    "# Regressione lineare multipla"
   ]
  },
  {
   "cell_type": "code",
   "execution_count": null,
   "metadata": {},
   "outputs": [],
   "source": [
    "# ====================\n",
    "# Regressione MULTIPLA\n",
    "# ====================\n",
    "# Separazione del dataframe: dati casa e prezzi (target)\n",
    "dfM_data_x = df.iloc[:, :13] #pandas.core.frame.DataFrame\n",
    "dfM_prices_y = df['price']   #pandas.core.series.Series\n",
    "print(dfM_prices_y)"
   ]
  },
  {
   "cell_type": "code",
   "execution_count": null,
   "metadata": {},
   "outputs": [],
   "source": [
    "print(dfM_data_x)"
   ]
  },
  {
   "cell_type": "code",
   "execution_count": null,
   "metadata": {},
   "outputs": [],
   "source": [
    "# Creazione di oggetti di training e di oggetti di test partendo dalle due parti del dataframe.\n",
    "# df_data è un Dataframe e produce due Dataframe x_train, x_test.\n",
    "# df_prices è una Series e produce due Series y_train, y_test.\n",
    "x_train, x_test, y_train, y_test = train_test_split(dfM_data_x, dfM_prices_y, test_size = 0.3)\n",
    "print('x_train:',x_train.shape, '   x_test:', x_test.shape, '   y_train:', y_train.shape, '   y_test:', y_test.shape)"
   ]
  },
  {
   "cell_type": "code",
   "execution_count": null,
   "metadata": {},
   "outputs": [],
   "source": [
    "# Creazione di un oggetto _base.LinearRegression per la definizione del modello, tramite i due oggetti di training x_train e y_train.\n",
    "lr = LinearRegression()\n",
    "lr.fit(x_train, y_train)"
   ]
  },
  {
   "cell_type": "code",
   "execution_count": null,
   "metadata": {},
   "outputs": [],
   "source": [
    "coefficienti = pd.DataFrame(lr.coef_, dfM_data_x.columns, columns=['coefficienti'])\n",
    "print(coefficienti)"
   ]
  },
  {
   "cell_type": "code",
   "execution_count": null,
   "metadata": {},
   "outputs": [],
   "source": [
    "# Applicazione dei dati di test al modello, creando una lista (numpy.ndarray) di prezzi fedeli al modello, che possono discostare dai corrispondenti prezzi di test in y_test.\n",
    "pred = lr.predict(x_test)"
   ]
  },
  {
   "cell_type": "code",
   "execution_count": null,
   "metadata": {},
   "outputs": [],
   "source": [
    "# Visualizzazione dei prezzi dei primi 10 casi di test\n",
    "print(pred[0:10])"
   ]
  },
  {
   "cell_type": "code",
   "execution_count": null,
   "metadata": {},
   "outputs": [],
   "source": [
    "# Metriche per stima modello di regressione\n",
    "from sklearn import metrics\n",
    "print('MAE:', metrics.mean_absolute_error(y_test, pred))\n",
    "print('MSE:', metrics.mean_squared_error(y_test, pred))"
   ]
  },
  {
   "cell_type": "code",
   "execution_count": null,
   "metadata": {},
   "outputs": [],
   "source": [
    "# Indice di correlazione lineare. Può variare tra 1 e 0; 1 si adatta perfettamente, 0 non si adatta.\n",
    "r2 = metrics.r2_score(y_test, pred)\n",
    "print ('Metrics:', r2)"
   ]
  },
  {
   "cell_type": "code",
   "execution_count": null,
   "metadata": {},
   "outputs": [],
   "source": []
  }
 ],
 "metadata": {
  "kernelspec": {
   "display_name": "Python 3",
   "language": "python",
   "name": "python3"
  },
  "language_info": {
   "codemirror_mode": {
    "name": "ipython",
    "version": 3
   },
   "file_extension": ".py",
   "mimetype": "text/x-python",
   "name": "python",
   "nbconvert_exporter": "python",
   "pygments_lexer": "ipython3",
   "version": "3.6.10"
  }
 },
 "nbformat": 4,
 "nbformat_minor": 4
}
