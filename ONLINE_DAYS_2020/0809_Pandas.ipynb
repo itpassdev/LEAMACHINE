{
 "cells": [
  {
   "cell_type": "markdown",
   "metadata": {},
   "source": [
    "https://pandas.pydata.org\n",
    "\n",
    "Definizione sul sito\n",
    "\n",
    "pandas is a fast, powerful, flexible and easy to use open source data analysis and manipulation tool,\n",
    "built on top of the Python programming language."
   ]
  },
  {
   "cell_type": "code",
   "execution_count": 1,
   "metadata": {},
   "outputs": [],
   "source": [
    "#importa il modulo pandas\n",
    "import pandas as pd"
   ]
  },
  {
   "cell_type": "code",
   "execution_count": 2,
   "metadata": {},
   "outputs": [],
   "source": [
    "#creazione di un DataFrame fittizio\n",
    "dati = pd.DataFrame({'Nome': ['Pluto', 'Paperino', 'Minny', 'Gastone', 'Gnomo', 'Elfo', 'Nano', 'Fata', 'Pippo'],\n",
    "                   'Peso':[50, 67, 55, 63, 20, 180, 130, 80, 60],\n",
    "                   'Altezza':[35, 25, 22, 24, 15, 80, 65, 35, 140],\n",
    "                   'Fantasia': ['media', 'altissima', 'alta', 'bassa', 'media', 'alta', 'media', 'altissima', 'altissima'],\n",
    "                   'Sesso': ['m','m','f','m','m','m','m', 'f', 'm'], \n",
    "                   'Liv. Informatica': ['1', '2', '4', '3', '1', '5', '3', '5', '1']})"
   ]
  },
  {
   "cell_type": "code",
   "execution_count": 3,
   "metadata": {},
   "outputs": [
    {
     "name": "stdout",
     "output_type": "stream",
     "text": [
      "       Nome  Peso  Altezza   Fantasia Sesso Liv. Informatica\n",
      "0     Pluto    50       35      media     m                1\n",
      "1  Paperino    67       25  altissima     m                2\n",
      "2     Minny    55       22       alta     f                4\n",
      "3   Gastone    63       24      bassa     m                3\n",
      "4     Gnomo    20       15      media     m                1\n",
      "5      Elfo   180       80       alta     m                5\n",
      "6      Nano   130       65      media     m                3\n",
      "7      Fata    80       35  altissima     f                5\n",
      "8     Pippo    60      140  altissima     m                1\n"
     ]
    }
   ],
   "source": [
    "print(dati)"
   ]
  },
  {
   "cell_type": "code",
   "execution_count": 4,
   "metadata": {},
   "outputs": [],
   "source": [
    "#esporta dati su file .csv\n",
    "dati.to_csv('Test_ITPASS_0809.csv') #esporta su file .csv"
   ]
  },
  {
   "cell_type": "code",
   "execution_count": 5,
   "metadata": {},
   "outputs": [],
   "source": [
    "#esporta dati su file .xlsx\n",
    "dati.to_excel('Test_ITPASS_0809.xlsx') #esporta su file .xlsx"
   ]
  },
  {
   "cell_type": "code",
   "execution_count": 6,
   "metadata": {},
   "outputs": [],
   "source": [
    "#importazione da sito remoto archive.ics.uci.edu (Machine Learning Repository)\n",
    "dati_wine = pd.read_csv(\"https://archive.ics.uci.edu/ml/machine-learning-databases/wine/wine.data\")"
   ]
  },
  {
   "cell_type": "code",
   "execution_count": 7,
   "metadata": {},
   "outputs": [
    {
     "name": "stdout",
     "output_type": "stream",
     "text": [
      "     1  14.23  1.71  2.43  15.6  127   2.8  3.06   .28  2.29   5.64  1.04  \\\n",
      "0    1  13.20  1.78  2.14  11.2  100  2.65  2.76  0.26  1.28   4.38  1.05   \n",
      "1    1  13.16  2.36  2.67  18.6  101  2.80  3.24  0.30  2.81   5.68  1.03   \n",
      "2    1  14.37  1.95  2.50  16.8  113  3.85  3.49  0.24  2.18   7.80  0.86   \n",
      "3    1  13.24  2.59  2.87  21.0  118  2.80  2.69  0.39  1.82   4.32  1.04   \n",
      "4    1  14.20  1.76  2.45  15.2  112  3.27  3.39  0.34  1.97   6.75  1.05   \n",
      "..  ..    ...   ...   ...   ...  ...   ...   ...   ...   ...    ...   ...   \n",
      "172  3  13.71  5.65  2.45  20.5   95  1.68  0.61  0.52  1.06   7.70  0.64   \n",
      "173  3  13.40  3.91  2.48  23.0  102  1.80  0.75  0.43  1.41   7.30  0.70   \n",
      "174  3  13.27  4.28  2.26  20.0  120  1.59  0.69  0.43  1.35  10.20  0.59   \n",
      "175  3  13.17  2.59  2.37  20.0  120  1.65  0.68  0.53  1.46   9.30  0.60   \n",
      "176  3  14.13  4.10  2.74  24.5   96  2.05  0.76  0.56  1.35   9.20  0.61   \n",
      "\n",
      "     3.92  1065  \n",
      "0    3.40  1050  \n",
      "1    3.17  1185  \n",
      "2    3.45  1480  \n",
      "3    2.93   735  \n",
      "4    2.85  1450  \n",
      "..    ...   ...  \n",
      "172  1.74   740  \n",
      "173  1.56   750  \n",
      "174  1.56   835  \n",
      "175  1.62   840  \n",
      "176  1.60   560  \n",
      "\n",
      "[177 rows x 14 columns]\n"
     ]
    }
   ],
   "source": [
    "print(dati_wine)"
   ]
  },
  {
   "cell_type": "code",
   "execution_count": 8,
   "metadata": {},
   "outputs": [],
   "source": [
    "#scrivere dataset in più fogli di un documento excel\n",
    "with pd.ExcelWriter('Test_ITPASS_0809_multiplo.xlsx') as writer:\n",
    "    dati.to_excel(writer, sheet_name='esempio_1')\n",
    "    dati_wine.to_excel(writer, sheet_name='esempio_2', index=False)"
   ]
  },
  {
   "cell_type": "code",
   "execution_count": 9,
   "metadata": {},
   "outputs": [
    {
     "name": "stdout",
     "output_type": "stream",
     "text": [
      "       Nome  Peso  Altezza   Fantasia Sesso Liv. Informatica\n",
      "0     Pluto    50       35      media     m                1\n",
      "1  Paperino    67       25  altissima     m                2\n",
      "2     Minny    55       22       alta     f                4\n",
      "3   Gastone    63       24      bassa     m                3\n",
      "4     Gnomo    20       15      media     m                1\n",
      "5      Elfo   180       80       alta     m                5\n",
      "6      Nano   130       65      media     m                3\n",
      "7      Fata    80       35  altissima     f                5\n",
      "8     Pippo    60      140  altissima     m                1\n"
     ]
    }
   ],
   "source": [
    "print(dati)"
   ]
  },
  {
   "cell_type": "code",
   "execution_count": 10,
   "metadata": {},
   "outputs": [
    {
     "data": {
      "text/html": [
       "<div>\n",
       "<style scoped>\n",
       "    .dataframe tbody tr th:only-of-type {\n",
       "        vertical-align: middle;\n",
       "    }\n",
       "\n",
       "    .dataframe tbody tr th {\n",
       "        vertical-align: top;\n",
       "    }\n",
       "\n",
       "    .dataframe thead th {\n",
       "        text-align: right;\n",
       "    }\n",
       "</style>\n",
       "<table border=\"1\" class=\"dataframe\">\n",
       "  <thead>\n",
       "    <tr style=\"text-align: right;\">\n",
       "      <th></th>\n",
       "      <th>Peso</th>\n",
       "      <th>Altezza</th>\n",
       "    </tr>\n",
       "  </thead>\n",
       "  <tbody>\n",
       "    <tr>\n",
       "      <th>count</th>\n",
       "      <td>9.000000</td>\n",
       "      <td>9.000000</td>\n",
       "    </tr>\n",
       "    <tr>\n",
       "      <th>mean</th>\n",
       "      <td>78.333333</td>\n",
       "      <td>49.000000</td>\n",
       "    </tr>\n",
       "    <tr>\n",
       "      <th>std</th>\n",
       "      <td>48.033842</td>\n",
       "      <td>40.274061</td>\n",
       "    </tr>\n",
       "    <tr>\n",
       "      <th>min</th>\n",
       "      <td>20.000000</td>\n",
       "      <td>15.000000</td>\n",
       "    </tr>\n",
       "    <tr>\n",
       "      <th>25%</th>\n",
       "      <td>55.000000</td>\n",
       "      <td>24.000000</td>\n",
       "    </tr>\n",
       "    <tr>\n",
       "      <th>50%</th>\n",
       "      <td>63.000000</td>\n",
       "      <td>35.000000</td>\n",
       "    </tr>\n",
       "    <tr>\n",
       "      <th>75%</th>\n",
       "      <td>80.000000</td>\n",
       "      <td>65.000000</td>\n",
       "    </tr>\n",
       "    <tr>\n",
       "      <th>max</th>\n",
       "      <td>180.000000</td>\n",
       "      <td>140.000000</td>\n",
       "    </tr>\n",
       "  </tbody>\n",
       "</table>\n",
       "</div>"
      ],
      "text/plain": [
       "             Peso     Altezza\n",
       "count    9.000000    9.000000\n",
       "mean    78.333333   49.000000\n",
       "std     48.033842   40.274061\n",
       "min     20.000000   15.000000\n",
       "25%     55.000000   24.000000\n",
       "50%     63.000000   35.000000\n",
       "75%     80.000000   65.000000\n",
       "max    180.000000  140.000000"
      ]
     },
     "execution_count": 10,
     "metadata": {},
     "output_type": "execute_result"
    }
   ],
   "source": [
    "#statistiche descrittive\n",
    "dati.describe()"
   ]
  },
  {
   "cell_type": "code",
   "execution_count": null,
   "metadata": {},
   "outputs": [],
   "source": [
    "#tipo di dati per ogni variabile del dataset\n",
    "dati.dtypes"
   ]
  },
  {
   "cell_type": "code",
   "execution_count": 11,
   "metadata": {},
   "outputs": [
    {
     "data": {
      "text/html": [
       "<div>\n",
       "<style scoped>\n",
       "    .dataframe tbody tr th:only-of-type {\n",
       "        vertical-align: middle;\n",
       "    }\n",
       "\n",
       "    .dataframe tbody tr th {\n",
       "        vertical-align: top;\n",
       "    }\n",
       "\n",
       "    .dataframe thead th {\n",
       "        text-align: right;\n",
       "    }\n",
       "</style>\n",
       "<table border=\"1\" class=\"dataframe\">\n",
       "  <thead>\n",
       "    <tr style=\"text-align: right;\">\n",
       "      <th></th>\n",
       "      <th>Nome</th>\n",
       "      <th>Peso</th>\n",
       "      <th>Altezza</th>\n",
       "      <th>Fantasia</th>\n",
       "      <th>Sesso</th>\n",
       "      <th>Liv. Informatica</th>\n",
       "    </tr>\n",
       "  </thead>\n",
       "  <tbody>\n",
       "    <tr>\n",
       "      <th>2</th>\n",
       "      <td>Minny</td>\n",
       "      <td>55</td>\n",
       "      <td>22</td>\n",
       "      <td>alta</td>\n",
       "      <td>f</td>\n",
       "      <td>4</td>\n",
       "    </tr>\n",
       "    <tr>\n",
       "      <th>5</th>\n",
       "      <td>Elfo</td>\n",
       "      <td>180</td>\n",
       "      <td>80</td>\n",
       "      <td>alta</td>\n",
       "      <td>m</td>\n",
       "      <td>5</td>\n",
       "    </tr>\n",
       "    <tr>\n",
       "      <th>1</th>\n",
       "      <td>Paperino</td>\n",
       "      <td>67</td>\n",
       "      <td>25</td>\n",
       "      <td>altissima</td>\n",
       "      <td>m</td>\n",
       "      <td>2</td>\n",
       "    </tr>\n",
       "    <tr>\n",
       "      <th>7</th>\n",
       "      <td>Fata</td>\n",
       "      <td>80</td>\n",
       "      <td>35</td>\n",
       "      <td>altissima</td>\n",
       "      <td>f</td>\n",
       "      <td>5</td>\n",
       "    </tr>\n",
       "    <tr>\n",
       "      <th>8</th>\n",
       "      <td>Pippo</td>\n",
       "      <td>60</td>\n",
       "      <td>140</td>\n",
       "      <td>altissima</td>\n",
       "      <td>m</td>\n",
       "      <td>1</td>\n",
       "    </tr>\n",
       "    <tr>\n",
       "      <th>3</th>\n",
       "      <td>Gastone</td>\n",
       "      <td>63</td>\n",
       "      <td>24</td>\n",
       "      <td>bassa</td>\n",
       "      <td>m</td>\n",
       "      <td>3</td>\n",
       "    </tr>\n",
       "    <tr>\n",
       "      <th>0</th>\n",
       "      <td>Pluto</td>\n",
       "      <td>50</td>\n",
       "      <td>35</td>\n",
       "      <td>media</td>\n",
       "      <td>m</td>\n",
       "      <td>1</td>\n",
       "    </tr>\n",
       "    <tr>\n",
       "      <th>4</th>\n",
       "      <td>Gnomo</td>\n",
       "      <td>20</td>\n",
       "      <td>15</td>\n",
       "      <td>media</td>\n",
       "      <td>m</td>\n",
       "      <td>1</td>\n",
       "    </tr>\n",
       "    <tr>\n",
       "      <th>6</th>\n",
       "      <td>Nano</td>\n",
       "      <td>130</td>\n",
       "      <td>65</td>\n",
       "      <td>media</td>\n",
       "      <td>m</td>\n",
       "      <td>3</td>\n",
       "    </tr>\n",
       "  </tbody>\n",
       "</table>\n",
       "</div>"
      ],
      "text/plain": [
       "       Nome  Peso  Altezza   Fantasia Sesso Liv. Informatica\n",
       "2     Minny    55       22       alta     f                4\n",
       "5      Elfo   180       80       alta     m                5\n",
       "1  Paperino    67       25  altissima     m                2\n",
       "7      Fata    80       35  altissima     f                5\n",
       "8     Pippo    60      140  altissima     m                1\n",
       "3   Gastone    63       24      bassa     m                3\n",
       "0     Pluto    50       35      media     m                1\n",
       "4     Gnomo    20       15      media     m                1\n",
       "6      Nano   130       65      media     m                3"
      ]
     },
     "execution_count": 11,
     "metadata": {},
     "output_type": "execute_result"
    }
   ],
   "source": [
    "#esempio tipo di ordinamento\n",
    "dati.sort_values(by = 'Fantasia')"
   ]
  },
  {
   "cell_type": "code",
   "execution_count": 14,
   "metadata": {},
   "outputs": [
    {
     "name": "stdout",
     "output_type": "stream",
     "text": [
      "       Nome  Peso  Altezza   Fantasia Sesso Liv. Informatica\n",
      "0     Pluto    50       35      media     m                1\n",
      "1  Paperino    67       25  altissima     m                2\n",
      "2     Minny    55       22       alta     f                4\n",
      "3   Gastone    63       24      bassa     m                3\n",
      "4     Gnomo    20       15      media     m                1\n",
      "5      Elfo   180       80       alta     m                5\n",
      "6      Nano   130       65      media     m                3\n",
      "7      Fata    80       35  altissima     f                5\n",
      "8     Pippo    60      140  altissima     m                1\n"
     ]
    }
   ],
   "source": [
    "print(dati)"
   ]
  },
  {
   "cell_type": "code",
   "execution_count": null,
   "metadata": {},
   "outputs": [],
   "source": [
    "#estrae il 5 caso e seconda variabile\n",
    "dati.iloc[5, 2]"
   ]
  },
  {
   "cell_type": "code",
   "execution_count": 12,
   "metadata": {},
   "outputs": [],
   "source": [
    "#estrae dal 5 caso la seconda variabile\n",
    "dati_estr = dati.iloc[5:, 2]"
   ]
  },
  {
   "cell_type": "code",
   "execution_count": 13,
   "metadata": {},
   "outputs": [
    {
     "name": "stdout",
     "output_type": "stream",
     "text": [
      "5     80\n",
      "6     65\n",
      "7     35\n",
      "8    140\n",
      "Name: Altezza, dtype: int64\n"
     ]
    }
   ],
   "source": [
    "print(dati_estr)"
   ]
  },
  {
   "cell_type": "code",
   "execution_count": 15,
   "metadata": {},
   "outputs": [
    {
     "data": {
      "text/html": [
       "<div>\n",
       "<style scoped>\n",
       "    .dataframe tbody tr th:only-of-type {\n",
       "        vertical-align: middle;\n",
       "    }\n",
       "\n",
       "    .dataframe tbody tr th {\n",
       "        vertical-align: top;\n",
       "    }\n",
       "\n",
       "    .dataframe thead th {\n",
       "        text-align: right;\n",
       "    }\n",
       "</style>\n",
       "<table border=\"1\" class=\"dataframe\">\n",
       "  <thead>\n",
       "    <tr style=\"text-align: right;\">\n",
       "      <th></th>\n",
       "      <th>Nome</th>\n",
       "      <th>Peso</th>\n",
       "      <th>Altezza</th>\n",
       "      <th>Fantasia</th>\n",
       "      <th>Sesso</th>\n",
       "      <th>Liv. Informatica</th>\n",
       "    </tr>\n",
       "  </thead>\n",
       "  <tbody>\n",
       "    <tr>\n",
       "      <th>5</th>\n",
       "      <td>Elfo</td>\n",
       "      <td>180</td>\n",
       "      <td>80</td>\n",
       "      <td>alta</td>\n",
       "      <td>m</td>\n",
       "      <td>5</td>\n",
       "    </tr>\n",
       "    <tr>\n",
       "      <th>6</th>\n",
       "      <td>Nano</td>\n",
       "      <td>130</td>\n",
       "      <td>65</td>\n",
       "      <td>media</td>\n",
       "      <td>m</td>\n",
       "      <td>3</td>\n",
       "    </tr>\n",
       "  </tbody>\n",
       "</table>\n",
       "</div>"
      ],
      "text/plain": [
       "   Nome  Peso  Altezza Fantasia Sesso Liv. Informatica\n",
       "5  Elfo   180       80     alta     m                5\n",
       "6  Nano   130       65    media     m                3"
      ]
     },
     "execution_count": 15,
     "metadata": {},
     "output_type": "execute_result"
    }
   ],
   "source": [
    "#test su condizioni\n",
    "dati[dati['Peso'] > 100]"
   ]
  },
  {
   "cell_type": "code",
   "execution_count": null,
   "metadata": {},
   "outputs": [],
   "source": [
    "#esempio di ordinamento per peso discendente del DataFrame ed estrazione del primo caso\n",
    "dati.sort_values(by = 'Peso', ascending = False).iloc[0:1, :]"
   ]
  },
  {
   "cell_type": "code",
   "execution_count": 16,
   "metadata": {},
   "outputs": [],
   "source": [
    "#crea nuova colonna nel DataFrame\n",
    "dati['Peso in grammi'] = dati['Peso'] * 1000"
   ]
  },
  {
   "cell_type": "code",
   "execution_count": 17,
   "metadata": {},
   "outputs": [
    {
     "name": "stdout",
     "output_type": "stream",
     "text": [
      "       Nome  Peso  Altezza   Fantasia Sesso Liv. Informatica  Peso in grammi\n",
      "0     Pluto    50       35      media     m                1           50000\n",
      "1  Paperino    67       25  altissima     m                2           67000\n",
      "2     Minny    55       22       alta     f                4           55000\n",
      "3   Gastone    63       24      bassa     m                3           63000\n",
      "4     Gnomo    20       15      media     m                1           20000\n",
      "5      Elfo   180       80       alta     m                5          180000\n",
      "6      Nano   130       65      media     m                3          130000\n",
      "7      Fata    80       35  altissima     f                5           80000\n",
      "8     Pippo    60      140  altissima     m                1           60000\n"
     ]
    }
   ],
   "source": [
    "print(dati)"
   ]
  },
  {
   "cell_type": "code",
   "execution_count": 18,
   "metadata": {},
   "outputs": [],
   "source": [
    "#cancella una colonna dal DataFrame\n",
    "del dati['Peso in grammi'] "
   ]
  },
  {
   "cell_type": "code",
   "execution_count": 19,
   "metadata": {},
   "outputs": [
    {
     "name": "stdout",
     "output_type": "stream",
     "text": [
      "       Nome  Peso  Altezza   Fantasia Sesso Liv. Informatica\n",
      "0     Pluto    50       35      media     m                1\n",
      "1  Paperino    67       25  altissima     m                2\n",
      "2     Minny    55       22       alta     f                4\n",
      "3   Gastone    63       24      bassa     m                3\n",
      "4     Gnomo    20       15      media     m                1\n",
      "5      Elfo   180       80       alta     m                5\n",
      "6      Nano   130       65      media     m                3\n",
      "7      Fata    80       35  altissima     f                5\n",
      "8     Pippo    60      140  altissima     m                1\n"
     ]
    }
   ],
   "source": [
    "print(dati)"
   ]
  },
  {
   "cell_type": "code",
   "execution_count": 20,
   "metadata": {},
   "outputs": [],
   "source": [
    "#creazione DataFrame con un caso duplicato\n",
    "dati = pd.DataFrame({'Nome': ['Pluto', 'Paperino', 'Minny', 'Gastone', 'Gnomo', 'Elfo', 'Nano', 'Fata', 'Nano'],\n",
    "                   'Peso':[50, 67, 55, 63, 20, 180, 130, 80, 130],\n",
    "                   'Altezza':[35, 25, 22, 24, 15, 80, 65, 35, 65],\n",
    "                   'Fantasia': ['media', 'altissima', 'alta', 'bassa', 'media', 'alta', 'media', 'altissima', 'media'],\n",
    "                   'Sesso': ['m','m','f','m','m','m','m', 'f', 'm'], \n",
    "                   'Liv. Informatica': ['1', '2', '4', '3', '1', '5', '3', '5', '3']})"
   ]
  },
  {
   "cell_type": "code",
   "execution_count": null,
   "metadata": {},
   "outputs": [],
   "source": [
    "#esempio inversioni di casi e variabili\n",
    "dati.T "
   ]
  },
  {
   "cell_type": "code",
   "execution_count": 21,
   "metadata": {},
   "outputs": [
    {
     "data": {
      "text/plain": [
       "0    False\n",
       "1    False\n",
       "2    False\n",
       "3    False\n",
       "4    False\n",
       "5    False\n",
       "6    False\n",
       "7    False\n",
       "8     True\n",
       "dtype: bool"
      ]
     },
     "execution_count": 21,
     "metadata": {},
     "output_type": "execute_result"
    }
   ],
   "source": [
    "#verifica casi duplicati del DataFrame\n",
    "dati.duplicated()"
   ]
  },
  {
   "cell_type": "code",
   "execution_count": 22,
   "metadata": {},
   "outputs": [],
   "source": [
    "#creazione nuovo DataFrame senza duplicati\n",
    "dati_nuovi = dati.drop_duplicates()"
   ]
  },
  {
   "cell_type": "code",
   "execution_count": 23,
   "metadata": {},
   "outputs": [
    {
     "data": {
      "text/plain": [
       "0    False\n",
       "1    False\n",
       "2    False\n",
       "3    False\n",
       "4    False\n",
       "5    False\n",
       "6    False\n",
       "7    False\n",
       "dtype: bool"
      ]
     },
     "execution_count": 23,
     "metadata": {},
     "output_type": "execute_result"
    }
   ],
   "source": [
    "#verifica casi duplicati\n",
    "dati_nuovi.duplicated()"
   ]
  },
  {
   "cell_type": "code",
   "execution_count": null,
   "metadata": {},
   "outputs": [],
   "source": [
    "print(dati_nuovi)"
   ]
  },
  {
   "cell_type": "code",
   "execution_count": 24,
   "metadata": {},
   "outputs": [
    {
     "data": {
      "text/html": [
       "<div>\n",
       "<style scoped>\n",
       "    .dataframe tbody tr th:only-of-type {\n",
       "        vertical-align: middle;\n",
       "    }\n",
       "\n",
       "    .dataframe tbody tr th {\n",
       "        vertical-align: top;\n",
       "    }\n",
       "\n",
       "    .dataframe thead th {\n",
       "        text-align: right;\n",
       "    }\n",
       "</style>\n",
       "<table border=\"1\" class=\"dataframe\">\n",
       "  <thead>\n",
       "    <tr style=\"text-align: right;\">\n",
       "      <th></th>\n",
       "      <th>variable</th>\n",
       "      <th>value</th>\n",
       "    </tr>\n",
       "  </thead>\n",
       "  <tbody>\n",
       "    <tr>\n",
       "      <th>0</th>\n",
       "      <td>Nome</td>\n",
       "      <td>Pluto</td>\n",
       "    </tr>\n",
       "    <tr>\n",
       "      <th>1</th>\n",
       "      <td>Nome</td>\n",
       "      <td>Paperino</td>\n",
       "    </tr>\n",
       "    <tr>\n",
       "      <th>2</th>\n",
       "      <td>Nome</td>\n",
       "      <td>Minny</td>\n",
       "    </tr>\n",
       "    <tr>\n",
       "      <th>3</th>\n",
       "      <td>Nome</td>\n",
       "      <td>Gastone</td>\n",
       "    </tr>\n",
       "    <tr>\n",
       "      <th>4</th>\n",
       "      <td>Nome</td>\n",
       "      <td>Gnomo</td>\n",
       "    </tr>\n",
       "    <tr>\n",
       "      <th>5</th>\n",
       "      <td>Nome</td>\n",
       "      <td>Elfo</td>\n",
       "    </tr>\n",
       "    <tr>\n",
       "      <th>6</th>\n",
       "      <td>Nome</td>\n",
       "      <td>Nano</td>\n",
       "    </tr>\n",
       "    <tr>\n",
       "      <th>7</th>\n",
       "      <td>Nome</td>\n",
       "      <td>Fata</td>\n",
       "    </tr>\n",
       "    <tr>\n",
       "      <th>8</th>\n",
       "      <td>Nome</td>\n",
       "      <td>Nano</td>\n",
       "    </tr>\n",
       "    <tr>\n",
       "      <th>9</th>\n",
       "      <td>Peso</td>\n",
       "      <td>50</td>\n",
       "    </tr>\n",
       "    <tr>\n",
       "      <th>10</th>\n",
       "      <td>Peso</td>\n",
       "      <td>67</td>\n",
       "    </tr>\n",
       "    <tr>\n",
       "      <th>11</th>\n",
       "      <td>Peso</td>\n",
       "      <td>55</td>\n",
       "    </tr>\n",
       "    <tr>\n",
       "      <th>12</th>\n",
       "      <td>Peso</td>\n",
       "      <td>63</td>\n",
       "    </tr>\n",
       "    <tr>\n",
       "      <th>13</th>\n",
       "      <td>Peso</td>\n",
       "      <td>20</td>\n",
       "    </tr>\n",
       "    <tr>\n",
       "      <th>14</th>\n",
       "      <td>Peso</td>\n",
       "      <td>180</td>\n",
       "    </tr>\n",
       "    <tr>\n",
       "      <th>15</th>\n",
       "      <td>Peso</td>\n",
       "      <td>130</td>\n",
       "    </tr>\n",
       "    <tr>\n",
       "      <th>16</th>\n",
       "      <td>Peso</td>\n",
       "      <td>80</td>\n",
       "    </tr>\n",
       "    <tr>\n",
       "      <th>17</th>\n",
       "      <td>Peso</td>\n",
       "      <td>130</td>\n",
       "    </tr>\n",
       "    <tr>\n",
       "      <th>18</th>\n",
       "      <td>Altezza</td>\n",
       "      <td>35</td>\n",
       "    </tr>\n",
       "    <tr>\n",
       "      <th>19</th>\n",
       "      <td>Altezza</td>\n",
       "      <td>25</td>\n",
       "    </tr>\n",
       "    <tr>\n",
       "      <th>20</th>\n",
       "      <td>Altezza</td>\n",
       "      <td>22</td>\n",
       "    </tr>\n",
       "    <tr>\n",
       "      <th>21</th>\n",
       "      <td>Altezza</td>\n",
       "      <td>24</td>\n",
       "    </tr>\n",
       "    <tr>\n",
       "      <th>22</th>\n",
       "      <td>Altezza</td>\n",
       "      <td>15</td>\n",
       "    </tr>\n",
       "    <tr>\n",
       "      <th>23</th>\n",
       "      <td>Altezza</td>\n",
       "      <td>80</td>\n",
       "    </tr>\n",
       "    <tr>\n",
       "      <th>24</th>\n",
       "      <td>Altezza</td>\n",
       "      <td>65</td>\n",
       "    </tr>\n",
       "    <tr>\n",
       "      <th>25</th>\n",
       "      <td>Altezza</td>\n",
       "      <td>35</td>\n",
       "    </tr>\n",
       "    <tr>\n",
       "      <th>26</th>\n",
       "      <td>Altezza</td>\n",
       "      <td>65</td>\n",
       "    </tr>\n",
       "    <tr>\n",
       "      <th>27</th>\n",
       "      <td>Fantasia</td>\n",
       "      <td>media</td>\n",
       "    </tr>\n",
       "    <tr>\n",
       "      <th>28</th>\n",
       "      <td>Fantasia</td>\n",
       "      <td>altissima</td>\n",
       "    </tr>\n",
       "    <tr>\n",
       "      <th>29</th>\n",
       "      <td>Fantasia</td>\n",
       "      <td>alta</td>\n",
       "    </tr>\n",
       "    <tr>\n",
       "      <th>30</th>\n",
       "      <td>Fantasia</td>\n",
       "      <td>bassa</td>\n",
       "    </tr>\n",
       "    <tr>\n",
       "      <th>31</th>\n",
       "      <td>Fantasia</td>\n",
       "      <td>media</td>\n",
       "    </tr>\n",
       "    <tr>\n",
       "      <th>32</th>\n",
       "      <td>Fantasia</td>\n",
       "      <td>alta</td>\n",
       "    </tr>\n",
       "    <tr>\n",
       "      <th>33</th>\n",
       "      <td>Fantasia</td>\n",
       "      <td>media</td>\n",
       "    </tr>\n",
       "    <tr>\n",
       "      <th>34</th>\n",
       "      <td>Fantasia</td>\n",
       "      <td>altissima</td>\n",
       "    </tr>\n",
       "    <tr>\n",
       "      <th>35</th>\n",
       "      <td>Fantasia</td>\n",
       "      <td>media</td>\n",
       "    </tr>\n",
       "    <tr>\n",
       "      <th>36</th>\n",
       "      <td>Sesso</td>\n",
       "      <td>m</td>\n",
       "    </tr>\n",
       "    <tr>\n",
       "      <th>37</th>\n",
       "      <td>Sesso</td>\n",
       "      <td>m</td>\n",
       "    </tr>\n",
       "    <tr>\n",
       "      <th>38</th>\n",
       "      <td>Sesso</td>\n",
       "      <td>f</td>\n",
       "    </tr>\n",
       "    <tr>\n",
       "      <th>39</th>\n",
       "      <td>Sesso</td>\n",
       "      <td>m</td>\n",
       "    </tr>\n",
       "    <tr>\n",
       "      <th>40</th>\n",
       "      <td>Sesso</td>\n",
       "      <td>m</td>\n",
       "    </tr>\n",
       "    <tr>\n",
       "      <th>41</th>\n",
       "      <td>Sesso</td>\n",
       "      <td>m</td>\n",
       "    </tr>\n",
       "    <tr>\n",
       "      <th>42</th>\n",
       "      <td>Sesso</td>\n",
       "      <td>m</td>\n",
       "    </tr>\n",
       "    <tr>\n",
       "      <th>43</th>\n",
       "      <td>Sesso</td>\n",
       "      <td>f</td>\n",
       "    </tr>\n",
       "    <tr>\n",
       "      <th>44</th>\n",
       "      <td>Sesso</td>\n",
       "      <td>m</td>\n",
       "    </tr>\n",
       "    <tr>\n",
       "      <th>45</th>\n",
       "      <td>Liv. Informatica</td>\n",
       "      <td>1</td>\n",
       "    </tr>\n",
       "    <tr>\n",
       "      <th>46</th>\n",
       "      <td>Liv. Informatica</td>\n",
       "      <td>2</td>\n",
       "    </tr>\n",
       "    <tr>\n",
       "      <th>47</th>\n",
       "      <td>Liv. Informatica</td>\n",
       "      <td>4</td>\n",
       "    </tr>\n",
       "    <tr>\n",
       "      <th>48</th>\n",
       "      <td>Liv. Informatica</td>\n",
       "      <td>3</td>\n",
       "    </tr>\n",
       "    <tr>\n",
       "      <th>49</th>\n",
       "      <td>Liv. Informatica</td>\n",
       "      <td>1</td>\n",
       "    </tr>\n",
       "    <tr>\n",
       "      <th>50</th>\n",
       "      <td>Liv. Informatica</td>\n",
       "      <td>5</td>\n",
       "    </tr>\n",
       "    <tr>\n",
       "      <th>51</th>\n",
       "      <td>Liv. Informatica</td>\n",
       "      <td>3</td>\n",
       "    </tr>\n",
       "    <tr>\n",
       "      <th>52</th>\n",
       "      <td>Liv. Informatica</td>\n",
       "      <td>5</td>\n",
       "    </tr>\n",
       "    <tr>\n",
       "      <th>53</th>\n",
       "      <td>Liv. Informatica</td>\n",
       "      <td>3</td>\n",
       "    </tr>\n",
       "  </tbody>\n",
       "</table>\n",
       "</div>"
      ],
      "text/plain": [
       "            variable      value\n",
       "0               Nome      Pluto\n",
       "1               Nome   Paperino\n",
       "2               Nome      Minny\n",
       "3               Nome    Gastone\n",
       "4               Nome      Gnomo\n",
       "5               Nome       Elfo\n",
       "6               Nome       Nano\n",
       "7               Nome       Fata\n",
       "8               Nome       Nano\n",
       "9               Peso         50\n",
       "10              Peso         67\n",
       "11              Peso         55\n",
       "12              Peso         63\n",
       "13              Peso         20\n",
       "14              Peso        180\n",
       "15              Peso        130\n",
       "16              Peso         80\n",
       "17              Peso        130\n",
       "18           Altezza         35\n",
       "19           Altezza         25\n",
       "20           Altezza         22\n",
       "21           Altezza         24\n",
       "22           Altezza         15\n",
       "23           Altezza         80\n",
       "24           Altezza         65\n",
       "25           Altezza         35\n",
       "26           Altezza         65\n",
       "27          Fantasia      media\n",
       "28          Fantasia  altissima\n",
       "29          Fantasia       alta\n",
       "30          Fantasia      bassa\n",
       "31          Fantasia      media\n",
       "32          Fantasia       alta\n",
       "33          Fantasia      media\n",
       "34          Fantasia  altissima\n",
       "35          Fantasia      media\n",
       "36             Sesso          m\n",
       "37             Sesso          m\n",
       "38             Sesso          f\n",
       "39             Sesso          m\n",
       "40             Sesso          m\n",
       "41             Sesso          m\n",
       "42             Sesso          m\n",
       "43             Sesso          f\n",
       "44             Sesso          m\n",
       "45  Liv. Informatica          1\n",
       "46  Liv. Informatica          2\n",
       "47  Liv. Informatica          4\n",
       "48  Liv. Informatica          3\n",
       "49  Liv. Informatica          1\n",
       "50  Liv. Informatica          5\n",
       "51  Liv. Informatica          3\n",
       "52  Liv. Informatica          5\n",
       "53  Liv. Informatica          3"
      ]
     },
     "execution_count": 24,
     "metadata": {},
     "output_type": "execute_result"
    }
   ],
   "source": [
    "#visualizzazione dei dati con rapprensentazione variabile e valore\n",
    "pd.melt(dati)"
   ]
  },
  {
   "cell_type": "code",
   "execution_count": null,
   "metadata": {},
   "outputs": [],
   "source": []
  }
 ],
 "metadata": {
  "kernelspec": {
   "display_name": "Python 3",
   "language": "python",
   "name": "python3"
  },
  "language_info": {
   "codemirror_mode": {
    "name": "ipython",
    "version": 3
   },
   "file_extension": ".py",
   "mimetype": "text/x-python",
   "name": "python",
   "nbconvert_exporter": "python",
   "pygments_lexer": "ipython3",
   "version": "3.6.10"
  }
 },
 "nbformat": 4,
 "nbformat_minor": 4
}
