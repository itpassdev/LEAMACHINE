{
 "cells": [
  {
   "cell_type": "markdown",
   "metadata": {},
   "source": [
    "https://numpy.org\n",
    "\n",
    "The fundamental package for scientific computing with Python\n",
    "\n",
    "supporto elevato ad array e matrici ed ottimizzazione dei calcoli\n"
   ]
  },
  {
   "cell_type": "code",
   "execution_count": 1,
   "metadata": {},
   "outputs": [],
   "source": [
    "import pandas as pd"
   ]
  },
  {
   "cell_type": "code",
   "execution_count": 2,
   "metadata": {},
   "outputs": [],
   "source": [
    "import numpy as np"
   ]
  },
  {
   "cell_type": "code",
   "execution_count": 5,
   "metadata": {},
   "outputs": [],
   "source": [
    "np.random.seed(11111) # impostare un seed per mantenere la stessa estrazione\n",
    "dati = pd.DataFrame(np.random.randn(18, 4)) #creazione casuale di 18 casi per 4 variabili"
   ]
  },
  {
   "cell_type": "code",
   "execution_count": 6,
   "metadata": {},
   "outputs": [
    {
     "name": "stdout",
     "output_type": "stream",
     "text": [
      "           0         1         2         3\n",
      "0  -0.077201  1.241803 -1.702855 -1.594270\n",
      "1  -3.015044 -0.019025 -0.032011 -0.482148\n",
      "2  -1.275541 -1.866788 -1.310262 -0.297177\n",
      "3   1.330608 -1.189233  1.267962  1.005520\n",
      "4   0.007669 -1.312242 -0.509027  1.088335\n",
      "5   0.005145  0.188491 -0.410075  0.503418\n",
      "6   0.587099 -0.373331  1.286974  0.053956\n",
      "7  -0.462868 -0.763672  0.403660 -1.962912\n",
      "8  -0.501756  0.181425 -0.677468  0.670762\n",
      "9  -0.950490  2.749312 -1.130154  0.277854\n",
      "10 -0.091896 -0.395260  0.376835 -0.962452\n",
      "11 -0.524378  0.295858  0.361295  0.291820\n",
      "12  1.731023  0.708162  0.513810 -0.301448\n",
      "13 -0.900541  0.007079  1.491023 -0.749682\n",
      "14 -2.107417  0.422503 -0.773942 -0.706965\n",
      "15  0.819744 -0.357223  0.658754 -2.132886\n",
      "16 -0.387787  0.017101  1.202056 -1.166508\n",
      "17  0.640244 -0.787916 -1.703249 -0.226896\n"
     ]
    }
   ],
   "source": [
    "print(dati)"
   ]
  },
  {
   "cell_type": "code",
   "execution_count": null,
   "metadata": {},
   "outputs": [],
   "source": [
    "pd.DataFrame(np.random.binomial(100, 0.5, (10, 5))) #distribuzione binomiale"
   ]
  },
  {
   "cell_type": "code",
   "execution_count": null,
   "metadata": {},
   "outputs": [],
   "source": [
    "pd.DataFrame(np.random.poisson(100, (10, 5))) #distribuzione poisson"
   ]
  },
  {
   "cell_type": "code",
   "execution_count": null,
   "metadata": {},
   "outputs": [],
   "source": [
    "pd.DataFrame(np.random.uniform(1, 100, (10,5))) #distribuzione uniforme"
   ]
  }
 ],
 "metadata": {
  "kernelspec": {
   "display_name": "Python 3",
   "language": "python",
   "name": "python3"
  },
  "language_info": {
   "codemirror_mode": {
    "name": "ipython",
    "version": 3
   },
   "file_extension": ".py",
   "mimetype": "text/x-python",
   "name": "python",
   "nbconvert_exporter": "python",
   "pygments_lexer": "ipython3",
   "version": "3.6.10"
  }
 },
 "nbformat": 4,
 "nbformat_minor": 4
}
