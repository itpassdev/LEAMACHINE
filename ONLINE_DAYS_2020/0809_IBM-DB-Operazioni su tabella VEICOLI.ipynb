{
 "cells": [
  {
   "cell_type": "markdown",
   "metadata": {},
   "source": [
    "https://github.com/ibmdb/python-ibmdb\n",
    "\n",
    "ibm-db\n",
    "\n",
    "Interfaccia per connettersi al DB2 da Python:\n",
    "\n",
    "The ibm_db contains:\n",
    "ibm_db driver: Python driver for IBM DB2 and IBM Informix databases. Uses the IBM Data Server Driver for ODBC and CLI APIs to connect to IBM DB2 and Informix.\n",
    "ibm_db_dbi: Python driver for IBM DB2 and IBM Informix databases that complies to the DB-API 2.0 specification. Checkout the README for getting started with ibm_db and ibm_db_dbi"
   ]
  },
  {
   "cell_type": "code",
   "execution_count": 1,
   "metadata": {},
   "outputs": [],
   "source": [
    "#esempio di creazione connessione con ibm_db_dbi e lettura nativa della connessione da pandas\n",
    "import ibm_db_dbi as db2\n",
    "conn_read = db2.connect()\n",
    "\n",
    "import pandas as pd\n",
    "dataset1 = pd.read_sql(\"SELECT * FROM JUPYTER_04.VEICOLI\", conn_read)"
   ]
  },
  {
   "cell_type": "code",
   "execution_count": 2,
   "metadata": {},
   "outputs": [
    {
     "name": "stdout",
     "output_type": "stream",
     "text": [
      "      ANNO            TIPOLOGIA_VEICOLO  NUMERO_VEICOLI\n",
      "0   2011.0                      AUTOBUS          3074.0\n",
      "1   2012.0                      AUTOBUS          2866.0\n",
      "2   2013.0                      AUTOBUS          2766.0\n",
      "3   2014.0                      AUTOBUS          2679.0\n",
      "4   2015.0                      AUTOBUS          2739.0\n",
      "..     ...                          ...             ...\n",
      "85  2015.0  TRATTORI STRADALI O MOTRICI          2419.0\n",
      "86  2016.0  TRATTORI STRADALI O MOTRICI          2568.0\n",
      "87  2017.0  TRATTORI STRADALI O MOTRICI          2872.0\n",
      "88  2018.0  TRATTORI STRADALI O MOTRICI          3197.0\n",
      "89  2019.0  TRATTORI STRADALI O MOTRICI          3385.0\n",
      "\n",
      "[90 rows x 3 columns]\n"
     ]
    }
   ],
   "source": [
    "print(dataset1)"
   ]
  },
  {
   "cell_type": "code",
   "execution_count": 3,
   "metadata": {},
   "outputs": [
    {
     "data": {
      "text/html": [
       "<div>\n",
       "<style scoped>\n",
       "    .dataframe tbody tr th:only-of-type {\n",
       "        vertical-align: middle;\n",
       "    }\n",
       "\n",
       "    .dataframe tbody tr th {\n",
       "        vertical-align: top;\n",
       "    }\n",
       "\n",
       "    .dataframe thead th {\n",
       "        text-align: right;\n",
       "    }\n",
       "</style>\n",
       "<table border=\"1\" class=\"dataframe\">\n",
       "  <thead>\n",
       "    <tr style=\"text-align: right;\">\n",
       "      <th></th>\n",
       "      <th>ANNO</th>\n",
       "      <th>NUMERO_VEICOLI</th>\n",
       "    </tr>\n",
       "  </thead>\n",
       "  <tbody>\n",
       "    <tr>\n",
       "      <th>count</th>\n",
       "      <td>90.000000</td>\n",
       "      <td>90.000000</td>\n",
       "    </tr>\n",
       "    <tr>\n",
       "      <th>mean</th>\n",
       "      <td>2015.000000</td>\n",
       "      <td>94984.344444</td>\n",
       "    </tr>\n",
       "    <tr>\n",
       "      <th>std</th>\n",
       "      <td>2.596454</td>\n",
       "      <td>208274.131137</td>\n",
       "    </tr>\n",
       "    <tr>\n",
       "      <th>min</th>\n",
       "      <td>2011.000000</td>\n",
       "      <td>783.000000</td>\n",
       "    </tr>\n",
       "    <tr>\n",
       "      <th>25%</th>\n",
       "      <td>2013.000000</td>\n",
       "      <td>2303.750000</td>\n",
       "    </tr>\n",
       "    <tr>\n",
       "      <th>50%</th>\n",
       "      <td>2015.000000</td>\n",
       "      <td>3647.500000</td>\n",
       "    </tr>\n",
       "    <tr>\n",
       "      <th>75%</th>\n",
       "      <td>2017.000000</td>\n",
       "      <td>62894.500000</td>\n",
       "    </tr>\n",
       "    <tr>\n",
       "      <th>max</th>\n",
       "      <td>2019.000000</td>\n",
       "      <td>724450.000000</td>\n",
       "    </tr>\n",
       "  </tbody>\n",
       "</table>\n",
       "</div>"
      ],
      "text/plain": [
       "              ANNO  NUMERO_VEICOLI\n",
       "count    90.000000       90.000000\n",
       "mean   2015.000000    94984.344444\n",
       "std       2.596454   208274.131137\n",
       "min    2011.000000      783.000000\n",
       "25%    2013.000000     2303.750000\n",
       "50%    2015.000000     3647.500000\n",
       "75%    2017.000000    62894.500000\n",
       "max    2019.000000   724450.000000"
      ]
     },
     "execution_count": 3,
     "metadata": {},
     "output_type": "execute_result"
    }
   ],
   "source": [
    "#informazioni sul dataset caricato\n",
    "dataset1.describe()"
   ]
  },
  {
   "cell_type": "code",
   "execution_count": null,
   "metadata": {},
   "outputs": [],
   "source": [
    "#esporta dati in documento excel, foglio \"dati\"\n",
    "dataset1.to_excel(\"esportazione_tabella_veicoli.xlsx\",sheet_name=\"dati\")"
   ]
  },
  {
   "cell_type": "code",
   "execution_count": 4,
   "metadata": {},
   "outputs": [],
   "source": [
    "#esporta dati in documento excel, foglio \"dati\" senza indice di riga come colonna\n",
    "dataset1.to_excel(\"esportazione_tabella_veicoli_no_index.xlsx\",sheet_name=\"dati\", index=False)"
   ]
  },
  {
   "cell_type": "code",
   "execution_count": null,
   "metadata": {},
   "outputs": [],
   "source": []
  }
 ],
 "metadata": {
  "kernelspec": {
   "display_name": "Python 3",
   "language": "python",
   "name": "python3"
  },
  "language_info": {
   "codemirror_mode": {
    "name": "ipython",
    "version": 3
   },
   "file_extension": ".py",
   "mimetype": "text/x-python",
   "name": "python",
   "nbconvert_exporter": "python",
   "pygments_lexer": "ipython3",
   "version": "3.6.10"
  }
 },
 "nbformat": 4,
 "nbformat_minor": 4
}
